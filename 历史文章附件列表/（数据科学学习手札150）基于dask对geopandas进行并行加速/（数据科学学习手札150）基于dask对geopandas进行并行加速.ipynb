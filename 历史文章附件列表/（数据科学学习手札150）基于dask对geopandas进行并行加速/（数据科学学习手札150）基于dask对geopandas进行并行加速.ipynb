{
 "cells": [
  {
   "cell_type": "code",
   "execution_count": 1,
   "id": "d1686cc3-cef7-456a-a7a0-85c25ecc9edd",
   "metadata": {
    "tags": []
   },
   "outputs": [
    {
     "name": "stdout",
     "output_type": "stream",
     "text": [
      "geopandas:  0.12.2 dask_geopandas:  v0.3.0 shapely:  2.0.0\n"
     ]
    }
   ],
   "source": [
    "import os\n",
    "os.environ['USE_PYGEOS'] = '0' # 切换到shapely 2.0计算后端\n",
    "\n",
    "import shapely\n",
    "import numpy as np\n",
    "import geopandas as gpd\n",
    "import dask_geopandas as dgpd\n",
    "from shapely import Point, Polygon\n",
    "\n",
    "print(\n",
    "    'geopandas: ', gpd.__version__,\n",
    "    'dask_geopandas: ', dgpd.__version__,\n",
    "    'shapely: ', shapely.__version__\n",
    ")"
   ]
  },
  {
   "cell_type": "markdown",
   "id": "89d39f36-9b60-4446-a888-ee4335b3f4d7",
   "metadata": {},
   "source": [
    "# 2 dask-geopandas的使用"
   ]
  },
  {
   "cell_type": "markdown",
   "id": "bef517e1-8c11-451d-a0a0-076e108d174c",
   "metadata": {},
   "source": [
    "## 2.1 基础使用"
   ]
  },
  {
   "cell_type": "code",
   "execution_count": 2,
   "id": "de37008c-7577-4f32-96ae-3fc5fd68e618",
   "metadata": {
    "tags": []
   },
   "outputs": [],
   "source": [
    "# 生成示例用矢量数据\n",
    "demo_points = gpd.GeoDataFrame(\n",
    "    {\n",
    "        'id': range(1000000),\n",
    "        'geometry': [\n",
    "            Point(np.random.uniform(0, 90),\n",
    "                  np.random.uniform(0, 90))\n",
    "            for i in range(1000000)\n",
    "        ]\n",
    "    }\n",
    ")\n",
    "\n",
    "# 写出到本地gdb\n",
    "demo_points.to_file('./demo_points.gdb', driver='OpenFileGDB')"
   ]
  },
  {
   "cell_type": "code",
   "execution_count": 3,
   "id": "14677267-cdd7-46bb-9515-0d9e3d9e1449",
   "metadata": {
    "tags": []
   },
   "outputs": [
    {
     "data": {
      "text/html": [
       "<div><strong>Dask-GeoPandas GeoDataFrame Structure:</strong></div>\n",
       "<div>\n",
       "<style scoped>\n",
       "    .dataframe tbody tr th:only-of-type {\n",
       "        vertical-align: middle;\n",
       "    }\n",
       "\n",
       "    .dataframe tbody tr th {\n",
       "        vertical-align: top;\n",
       "    }\n",
       "\n",
       "    .dataframe thead th {\n",
       "        text-align: right;\n",
       "    }\n",
       "</style>\n",
       "<table border=\"1\" class=\"dataframe\">\n",
       "  <thead>\n",
       "    <tr style=\"text-align: right;\">\n",
       "      <th></th>\n",
       "      <th>id</th>\n",
       "      <th>geometry</th>\n",
       "    </tr>\n",
       "    <tr>\n",
       "      <th>npartitions=4</th>\n",
       "      <th></th>\n",
       "      <th></th>\n",
       "    </tr>\n",
       "  </thead>\n",
       "  <tbody>\n",
       "    <tr>\n",
       "      <th>0</th>\n",
       "      <td>float64</td>\n",
       "      <td>geometry</td>\n",
       "    </tr>\n",
       "    <tr>\n",
       "      <th>250000</th>\n",
       "      <td>...</td>\n",
       "      <td>...</td>\n",
       "    </tr>\n",
       "    <tr>\n",
       "      <th>500000</th>\n",
       "      <td>...</td>\n",
       "      <td>...</td>\n",
       "    </tr>\n",
       "    <tr>\n",
       "      <th>750000</th>\n",
       "      <td>...</td>\n",
       "      <td>...</td>\n",
       "    </tr>\n",
       "    <tr>\n",
       "      <th>999999</th>\n",
       "      <td>...</td>\n",
       "      <td>...</td>\n",
       "    </tr>\n",
       "  </tbody>\n",
       "</table>\n",
       "</div>\n",
       "<div>Dask Name: from_pandas, 1 graph layer</div>"
      ],
      "text/plain": [
       "Dask GeoDataFrame Structure:\n",
       "                    id  geometry\n",
       "npartitions=4                   \n",
       "0              float64  geometry\n",
       "250000             ...       ...\n",
       "500000             ...       ...\n",
       "750000             ...       ...\n",
       "999999             ...       ...\n",
       "Dask Name: from_pandas, 1 graph layer"
      ]
     },
     "execution_count": 3,
     "metadata": {},
     "output_type": "execute_result"
    }
   ],
   "source": [
    "demo_points = gpd.read_file('./demo_points.gdb', driver='OpenFileGDB')\n",
    "demo_points_ddf = dgpd.from_geopandas(demo_points, npartitions=4)\n",
    "demo_points_ddf"
   ]
  },
  {
   "cell_type": "code",
   "execution_count": 4,
   "id": "7efb13a5-3b3d-4021-ae1d-a33fba77ba57",
   "metadata": {
    "tags": []
   },
   "outputs": [
    {
     "data": {
      "text/plain": [
       "dd.Scalar<series-..., dtype=float64>"
      ]
     },
     "execution_count": 4,
     "metadata": {},
     "output_type": "execute_result"
    }
   ],
   "source": [
    "demo_points_ddf.id.max()"
   ]
  },
  {
   "cell_type": "code",
   "execution_count": 5,
   "id": "a7996217-7666-4d6f-af2c-7676c003519f",
   "metadata": {
    "tags": []
   },
   "outputs": [
    {
     "data": {
      "text/plain": [
       "999999.0"
      ]
     },
     "execution_count": 5,
     "metadata": {},
     "output_type": "execute_result"
    }
   ],
   "source": [
    "demo_points_ddf.id.max().compute()"
   ]
  },
  {
   "cell_type": "code",
   "execution_count": 6,
   "id": "a457357e-73ae-4bc7-9d50-b3c7c951269f",
   "metadata": {
    "tags": []
   },
   "outputs": [
    {
     "data": {
      "text/plain": [
       "Dask Series Structure:\n",
       "npartitions=4\n",
       "0         float64\n",
       "250000        ...\n",
       "500000        ...\n",
       "750000        ...\n",
       "999999        ...\n",
       "dtype: float64\n",
       "Dask Name: distance, 3 graph layers"
      ]
     },
     "execution_count": 6,
     "metadata": {},
     "output_type": "execute_result"
    }
   ],
   "source": [
    "demo_points_ddf.geometry.distance(Point(0, 0))"
   ]
  },
  {
   "cell_type": "code",
   "execution_count": 7,
   "id": "5ae8964a-68d7-412c-aa52-2bc2ad03ff57",
   "metadata": {
    "tags": []
   },
   "outputs": [
    {
     "data": {
      "text/plain": [
       "0          75.881400\n",
       "1          26.118355\n",
       "2          51.879331\n",
       "3          59.875140\n",
       "4          88.866753\n",
       "             ...    \n",
       "999995     82.103003\n",
       "999996     67.935746\n",
       "999997    107.640030\n",
       "999998     87.186818\n",
       "999999     26.534879\n",
       "Length: 1000000, dtype: float64"
      ]
     },
     "execution_count": 7,
     "metadata": {},
     "output_type": "execute_result"
    }
   ],
   "source": [
    "demo_points_ddf.geometry.distance(Point(0, 0)).compute()"
   ]
  },
  {
   "cell_type": "markdown",
   "id": "d5c01cd4-198c-42ba-a836-cd18c77332bb",
   "metadata": {},
   "source": [
    "## 2.2 性能比较"
   ]
  },
  {
   "cell_type": "code",
   "execution_count": 8,
   "id": "ff2d7d9e-fbc5-4f0a-b181-4ea94b3f3ffc",
   "metadata": {
    "tags": []
   },
   "outputs": [
    {
     "name": "stdout",
     "output_type": "stream",
     "text": [
      "351 ms ± 3.4 ms per loop (mean ± std. dev. of 7 runs, 1 loop each)\n"
     ]
    }
   ],
   "source": [
    "%%timeit \n",
    "\n",
    "demo_points.geometry.distance(Point(0, 0))"
   ]
  },
  {
   "cell_type": "code",
   "execution_count": 9,
   "id": "2ba7ccbd-1a02-4005-b4f9-5b2e9e82871b",
   "metadata": {
    "tags": []
   },
   "outputs": [
    {
     "name": "stdout",
     "output_type": "stream",
     "text": [
      "113 ms ± 2.95 ms per loop (mean ± std. dev. of 7 runs, 10 loops each)\n"
     ]
    }
   ],
   "source": [
    "%%timeit \n",
    "\n",
    "demo_points_ddf.geometry.distance(Point(0, 0)).compute()"
   ]
  },
  {
   "cell_type": "code",
   "execution_count": 10,
   "id": "fb79f333-ce51-4478-86c9-bea10b854642",
   "metadata": {
    "tags": []
   },
   "outputs": [
    {
     "name": "stdout",
     "output_type": "stream",
     "text": [
      "52.9 ms ± 1.9 ms per loop (mean ± std. dev. of 7 runs, 10 loops each)\n"
     ]
    }
   ],
   "source": [
    "%%timeit \n",
    "\n",
    "demo_points.within(Polygon([(0, 0), (0, 10), (10, 10), (10, 0)]))"
   ]
  },
  {
   "cell_type": "code",
   "execution_count": 11,
   "id": "3a3c23ff-4d1e-4b48-b3b1-398f03935a13",
   "metadata": {
    "tags": []
   },
   "outputs": [
    {
     "name": "stdout",
     "output_type": "stream",
     "text": [
      "19.6 ms ± 799 µs per loop (mean ± std. dev. of 7 runs, 10 loops each)\n"
     ]
    }
   ],
   "source": [
    "%%timeit\n",
    "\n",
    "demo_points_ddf.within(Polygon([(0, 0), (0, 10), (10, 10), (10, 0)])).compute()"
   ]
  }
 ],
 "metadata": {
  "kernelspec": {
   "display_name": "Python 3 (ipykernel)",
   "language": "python",
   "name": "python3"
  },
  "language_info": {
   "codemirror_mode": {
    "name": "ipython",
    "version": 3
   },
   "file_extension": ".py",
   "mimetype": "text/x-python",
   "name": "python",
   "nbconvert_exporter": "python",
   "pygments_lexer": "ipython3",
   "version": "3.11.0"
  }
 },
 "nbformat": 4,
 "nbformat_minor": 5
}
