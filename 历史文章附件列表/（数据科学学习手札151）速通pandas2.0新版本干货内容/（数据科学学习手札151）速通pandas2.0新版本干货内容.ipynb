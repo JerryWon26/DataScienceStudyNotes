{
 "cells": [
  {
   "cell_type": "code",
   "execution_count": 1,
   "id": "fadd75c4-5a3e-4e05-a265-50c0f04cc957",
   "metadata": {
    "tags": []
   },
   "outputs": [
    {
     "data": {
      "text/plain": [
       "'11.0.0'"
      ]
     },
     "execution_count": 1,
     "metadata": {},
     "output_type": "execute_result"
    }
   ],
   "source": [
    "import pyarrow;pyarrow.__version__"
   ]
  },
  {
   "cell_type": "code",
   "execution_count": 2,
   "id": "22c15eb4-e6fc-4871-a19b-5956bdbabaa1",
   "metadata": {},
   "outputs": [
    {
     "data": {
      "text/plain": [
       "'2.0.0'"
      ]
     },
     "execution_count": 2,
     "metadata": {},
     "output_type": "execute_result"
    }
   ],
   "source": [
    "import pandas as pd;pd.__version__"
   ]
  },
  {
   "cell_type": "markdown",
   "id": "92893205-955c-46dc-bfa6-48768b977db9",
   "metadata": {},
   "source": [
    "# 2 速通pandas 2.0新版本干货内容"
   ]
  },
  {
   "cell_type": "markdown",
   "id": "cb698d20-e419-4152-83c8-a5361b629ffa",
   "metadata": {},
   "source": [
    "## 2.1 数据读取及运算性能提升"
   ]
  },
  {
   "cell_type": "markdown",
   "id": "d3454dad-496a-4cf6-81d7-b10083f79ef1",
   "metadata": {},
   "source": [
    "- 默认读取方式"
   ]
  },
  {
   "cell_type": "code",
   "execution_count": 3,
   "id": "326bf561-6e24-47f0-942f-cf1f220cf2ea",
   "metadata": {
    "tags": []
   },
   "outputs": [
    {
     "name": "stdout",
     "output_type": "stream",
     "text": [
      "4.09 s ± 387 ms per loop (mean ± std. dev. of 7 runs, 1 loop each)\n"
     ]
    }
   ],
   "source": [
    "%%timeit\n",
    "\n",
    "df = pd.read_csv('./fraudTrain.csv')"
   ]
  },
  {
   "cell_type": "markdown",
   "id": "a39edcca-22fb-4a14-8030-ed8966bd24e0",
   "metadata": {},
   "source": [
    "- 使用`pyarrow`引擎"
   ]
  },
  {
   "cell_type": "code",
   "execution_count": 4,
   "id": "a6eae4b1-585b-4824-a99b-f4b4e76dfea9",
   "metadata": {
    "tags": []
   },
   "outputs": [
    {
     "name": "stdout",
     "output_type": "stream",
     "text": [
      "1.16 s ± 38.1 ms per loop (mean ± std. dev. of 7 runs, 1 loop each)\n"
     ]
    }
   ],
   "source": [
    "%%timeit\n",
    "\n",
    "df = pd.read_csv('./fraudTrain.csv', engine='pyarrow')"
   ]
  },
  {
   "cell_type": "markdown",
   "id": "cf846290-514c-4822-b48b-feb735e2b981",
   "metadata": {},
   "source": [
    "- 使用`pyarrow`引擎+`dtype_backend`"
   ]
  },
  {
   "cell_type": "code",
   "execution_count": 5,
   "id": "809e64b2-6f47-402d-8b77-6483e7f443ec",
   "metadata": {
    "tags": []
   },
   "outputs": [
    {
     "name": "stdout",
     "output_type": "stream",
     "text": [
      "224 ms ± 8.73 ms per loop (mean ± std. dev. of 7 runs, 1 loop each)\n"
     ]
    }
   ],
   "source": [
    "%%timeit\n",
    "\n",
    "df = pd.read_csv('./fraudTrain.csv', engine='pyarrow', dtype_backend='pyarrow')"
   ]
  },
  {
   "cell_type": "markdown",
   "id": "215feeb6-701e-4e1d-8923-dd07303bab32",
   "metadata": {},
   "source": [
    "- 默认写出方式"
   ]
  },
  {
   "cell_type": "code",
   "execution_count": 6,
   "id": "d24d2d89-f398-4542-a81f-121f726ec448",
   "metadata": {
    "tags": []
   },
   "outputs": [
    {
     "name": "stdout",
     "output_type": "stream",
     "text": [
      "4.85 s ± 406 ms per loop (mean ± std. dev. of 7 runs, 1 loop each)\n"
     ]
    }
   ],
   "source": [
    "%%timeit\n",
    "\n",
    "df = pd.read_csv('./fraudTrain.csv')"
   ]
  },
  {
   "cell_type": "markdown",
   "id": "fc856787-9d23-4702-8059-9294a72852d8",
   "metadata": {},
   "source": [
    "- 使用`pyarrow`引擎"
   ]
  },
  {
   "cell_type": "code",
   "execution_count": 7,
   "id": "629dba57-8c5e-4bd5-9217-f6bd340154e1",
   "metadata": {
    "tags": []
   },
   "outputs": [
    {
     "name": "stdout",
     "output_type": "stream",
     "text": [
      "1.24 s ± 125 ms per loop (mean ± std. dev. of 7 runs, 1 loop each)\n"
     ]
    }
   ],
   "source": [
    "%%timeit\n",
    "\n",
    "df = pd.read_csv('./fraudTrain.csv', engine='pyarrow')"
   ]
  },
  {
   "cell_type": "markdown",
   "id": "c54df9aa-43a5-4070-b151-25b751e6b784",
   "metadata": {},
   "source": [
    "- 使用`pyarrow`引擎+`dtype_backend`"
   ]
  },
  {
   "cell_type": "code",
   "execution_count": 8,
   "id": "10646c56-a0d8-4413-871a-41f20ff50182",
   "metadata": {
    "tags": []
   },
   "outputs": [
    {
     "name": "stdout",
     "output_type": "stream",
     "text": [
      "228 ms ± 11 ms per loop (mean ± std. dev. of 7 runs, 1 loop each)\n"
     ]
    }
   ],
   "source": [
    "%%timeit\n",
    "\n",
    "df = pd.read_csv('./fraudTrain.csv', engine='pyarrow', dtype_backend='pyarrow')"
   ]
  },
  {
   "cell_type": "code",
   "execution_count": 9,
   "id": "0fd7d754-3dcf-4814-aafe-d09c19717ee8",
   "metadata": {
    "tags": []
   },
   "outputs": [
    {
     "data": {
      "text/plain": [
       "                                int64[pyarrow]\n",
       "trans_date_trans_time    timestamp[s][pyarrow]\n",
       "cc_num                          int64[pyarrow]\n",
       "merchant                       string[pyarrow]\n",
       "category                       string[pyarrow]\n",
       "amt                            double[pyarrow]\n",
       "first                          string[pyarrow]\n",
       "last                           string[pyarrow]\n",
       "gender                         string[pyarrow]\n",
       "street                         string[pyarrow]\n",
       "city                           string[pyarrow]\n",
       "state                          string[pyarrow]\n",
       "zip                             int64[pyarrow]\n",
       "lat                            double[pyarrow]\n",
       "long                           double[pyarrow]\n",
       "city_pop                        int64[pyarrow]\n",
       "job                            string[pyarrow]\n",
       "dob                       date32[day][pyarrow]\n",
       "trans_num                      string[pyarrow]\n",
       "unix_time                       int64[pyarrow]\n",
       "merch_lat                      double[pyarrow]\n",
       "merch_long                     double[pyarrow]\n",
       "is_fraud                        int64[pyarrow]\n",
       "dtype: object"
      ]
     },
     "execution_count": 9,
     "metadata": {},
     "output_type": "execute_result"
    }
   ],
   "source": [
    "df_pyarrow = pd.read_csv('./fraudTrain.csv', engine='pyarrow', dtype_backend='pyarrow')\n",
    "df_pyarrow.dtypes"
   ]
  },
  {
   "cell_type": "code",
   "execution_count": 10,
   "id": "5aa2ee04-deb9-4e80-bbd1-b5154e45a030",
   "metadata": {
    "tags": []
   },
   "outputs": [
    {
     "data": {
      "text/plain": [
       "                                  int64\n",
       "trans_date_trans_time    datetime64[ns]\n",
       "cc_num                            int64\n",
       "merchant                         object\n",
       "category                         object\n",
       "amt                             float64\n",
       "first                            object\n",
       "last                             object\n",
       "gender                           object\n",
       "street                           object\n",
       "city                             object\n",
       "state                            object\n",
       "zip                               int64\n",
       "lat                             float64\n",
       "long                            float64\n",
       "city_pop                          int64\n",
       "job                              object\n",
       "dob                              object\n",
       "trans_num                        object\n",
       "unix_time                         int64\n",
       "merch_lat                       float64\n",
       "merch_long                      float64\n",
       "is_fraud                          int64\n",
       "dtype: object"
      ]
     },
     "execution_count": 10,
     "metadata": {},
     "output_type": "execute_result"
    }
   ],
   "source": [
    "# 仅使用engine='pyarrow'不会改变列的默认数据类型\n",
    "df_numpy = pd.read_csv('./fraudTrain.csv', engine='pyarrow')\n",
    "df_numpy.dtypes"
   ]
  },
  {
   "cell_type": "code",
   "execution_count": 11,
   "id": "21c25351-5de8-4e42-9ed7-225ff5b6e756",
   "metadata": {
    "tags": []
   },
   "outputs": [
    {
     "data": {
      "text/html": [
       "<div>\n",
       "<style scoped>\n",
       "    .dataframe tbody tr th:only-of-type {\n",
       "        vertical-align: middle;\n",
       "    }\n",
       "\n",
       "    .dataframe tbody tr th {\n",
       "        vertical-align: top;\n",
       "    }\n",
       "\n",
       "    .dataframe thead th {\n",
       "        text-align: right;\n",
       "    }\n",
       "</style>\n",
       "<table border=\"1\" class=\"dataframe\">\n",
       "  <thead>\n",
       "    <tr style=\"text-align: right;\">\n",
       "      <th></th>\n",
       "      <th></th>\n",
       "      <th>trans_date_trans_time</th>\n",
       "      <th>cc_num</th>\n",
       "      <th>merchant</th>\n",
       "      <th>category</th>\n",
       "      <th>amt</th>\n",
       "      <th>first</th>\n",
       "      <th>last</th>\n",
       "      <th>gender</th>\n",
       "      <th>street</th>\n",
       "      <th>...</th>\n",
       "      <th>lat</th>\n",
       "      <th>long</th>\n",
       "      <th>city_pop</th>\n",
       "      <th>job</th>\n",
       "      <th>dob</th>\n",
       "      <th>trans_num</th>\n",
       "      <th>unix_time</th>\n",
       "      <th>merch_lat</th>\n",
       "      <th>merch_long</th>\n",
       "      <th>is_fraud</th>\n",
       "    </tr>\n",
       "  </thead>\n",
       "  <tbody>\n",
       "    <tr>\n",
       "      <th>0</th>\n",
       "      <td>0</td>\n",
       "      <td>2019-01-01 00:00:18</td>\n",
       "      <td>2703186189652095</td>\n",
       "      <td>fraud_Rippin, Kub and Mann</td>\n",
       "      <td>misc_net</td>\n",
       "      <td>4.97</td>\n",
       "      <td>Jennifer</td>\n",
       "      <td>Banks</td>\n",
       "      <td>F</td>\n",
       "      <td>561 Perry Cove</td>\n",
       "      <td>...</td>\n",
       "      <td>36.0788</td>\n",
       "      <td>-81.1781</td>\n",
       "      <td>3495</td>\n",
       "      <td>Psychologist, counselling</td>\n",
       "      <td>1988-03-09</td>\n",
       "      <td>0b242abb623afc578575680df30655b9</td>\n",
       "      <td>1325376018</td>\n",
       "      <td>36.011293</td>\n",
       "      <td>-82.048315</td>\n",
       "      <td>0</td>\n",
       "    </tr>\n",
       "  </tbody>\n",
       "</table>\n",
       "<p>1 rows × 23 columns</p>\n",
       "</div>"
      ],
      "text/plain": [
       "     trans_date_trans_time            cc_num                    merchant   \n",
       "0  0   2019-01-01 00:00:18  2703186189652095  fraud_Rippin, Kub and Mann  \\\n",
       "\n",
       "   category   amt     first   last gender          street  ...      lat   \n",
       "0  misc_net  4.97  Jennifer  Banks      F  561 Perry Cove  ...  36.0788  \\\n",
       "\n",
       "      long  city_pop                        job        dob   \n",
       "0 -81.1781      3495  Psychologist, counselling 1988-03-09  \\\n",
       "\n",
       "                          trans_num   unix_time  merch_lat merch_long   \n",
       "0  0b242abb623afc578575680df30655b9  1325376018  36.011293 -82.048315  \\\n",
       "\n",
       "   is_fraud  \n",
       "0         0  \n",
       "\n",
       "[1 rows x 23 columns]"
      ]
     },
     "execution_count": 11,
     "metadata": {},
     "output_type": "execute_result"
    }
   ],
   "source": [
    "df_pyarrow.head(1)"
   ]
  },
  {
   "cell_type": "code",
   "execution_count": 12,
   "id": "aa43ee45-cd7b-445a-9f4a-7c943dc4f754",
   "metadata": {
    "tags": []
   },
   "outputs": [
    {
     "name": "stdout",
     "output_type": "stream",
     "text": [
      "747 µs ± 41.8 µs per loop (mean ± std. dev. of 7 runs, 1,000 loops each)\n"
     ]
    }
   ],
   "source": [
    "%timeit df_numpy['cc_num'].mean()"
   ]
  },
  {
   "cell_type": "code",
   "execution_count": 13,
   "id": "0ef69523-a29f-4824-ad70-9cab23eb8c7d",
   "metadata": {
    "tags": []
   },
   "outputs": [
    {
     "name": "stdout",
     "output_type": "stream",
     "text": [
      "635 µs ± 33.9 µs per loop (mean ± std. dev. of 7 runs, 1,000 loops each)\n"
     ]
    }
   ],
   "source": [
    "%timeit df_pyarrow['cc_num'].mean()"
   ]
  },
  {
   "cell_type": "code",
   "execution_count": 14,
   "id": "6bf7785a-1eb0-4b44-b7eb-0acf30527575",
   "metadata": {
    "tags": []
   },
   "outputs": [
    {
     "name": "stdout",
     "output_type": "stream",
     "text": [
      "196 ms ± 5.09 ms per loop (mean ± std. dev. of 7 runs, 1 loop each)\n"
     ]
    }
   ],
   "source": [
    "%timeit df_numpy['category'].str[-5:]"
   ]
  },
  {
   "cell_type": "code",
   "execution_count": 15,
   "id": "c54240e8-fdf5-4fd6-9020-5b60b858f19f",
   "metadata": {
    "tags": []
   },
   "outputs": [
    {
     "name": "stdout",
     "output_type": "stream",
     "text": [
      "28.8 ms ± 837 µs per loop (mean ± std. dev. of 7 runs, 10 loops each)\n"
     ]
    }
   ],
   "source": [
    "%timeit df_pyarrow['category'].str[-5:]"
   ]
  },
  {
   "cell_type": "code",
   "execution_count": 16,
   "id": "7c288089-c80d-470d-9c42-b5e3c64ddae4",
   "metadata": {
    "tags": []
   },
   "outputs": [
    {
     "name": "stdout",
     "output_type": "stream",
     "text": [
      "266 ms ± 3.78 ms per loop (mean ± std. dev. of 7 runs, 1 loop each)\n"
     ]
    }
   ],
   "source": [
    "%timeit df_numpy['merchant'].str.startswith('fraud')"
   ]
  },
  {
   "cell_type": "code",
   "execution_count": 17,
   "id": "a4a0edc3-214d-43a4-8ed4-0bebba15a849",
   "metadata": {
    "tags": []
   },
   "outputs": [
    {
     "name": "stdout",
     "output_type": "stream",
     "text": [
      "5.5 ms ± 56.6 µs per loop (mean ± std. dev. of 7 runs, 100 loops each)\n"
     ]
    }
   ],
   "source": [
    "%timeit df_pyarrow['merchant'].str.startswith('fraud')"
   ]
  },
  {
   "cell_type": "markdown",
   "id": "53e7d3e3-80fd-4a28-8a10-b3654b6f196c",
   "metadata": {},
   "source": [
    "## 2.2 “修改时复制”机制"
   ]
  },
  {
   "cell_type": "code",
   "execution_count": 18,
   "id": "1ab7fef1-24d3-4d4e-8363-2ef63b276831",
   "metadata": {
    "tags": []
   },
   "outputs": [
    {
     "data": {
      "text/plain": [
       "False"
      ]
     },
     "execution_count": 18,
     "metadata": {},
     "output_type": "execute_result"
    }
   ],
   "source": [
    "# 默认未开启\n",
    "pd.options.mode.copy_on_write"
   ]
  },
  {
   "cell_type": "code",
   "execution_count": 19,
   "id": "92dd9250-b6a9-4b38-960e-62212d9ae985",
   "metadata": {
    "tags": []
   },
   "outputs": [
    {
     "data": {
      "text/html": [
       "<div>\n",
       "<style scoped>\n",
       "    .dataframe tbody tr th:only-of-type {\n",
       "        vertical-align: middle;\n",
       "    }\n",
       "\n",
       "    .dataframe tbody tr th {\n",
       "        vertical-align: top;\n",
       "    }\n",
       "\n",
       "    .dataframe thead th {\n",
       "        text-align: right;\n",
       "    }\n",
       "</style>\n",
       "<table border=\"1\" class=\"dataframe\">\n",
       "  <thead>\n",
       "    <tr style=\"text-align: right;\">\n",
       "      <th></th>\n",
       "      <th>field1</th>\n",
       "    </tr>\n",
       "  </thead>\n",
       "  <tbody>\n",
       "    <tr>\n",
       "      <th>0</th>\n",
       "      <td>0</td>\n",
       "    </tr>\n",
       "    <tr>\n",
       "      <th>1</th>\n",
       "      <td>1</td>\n",
       "    </tr>\n",
       "    <tr>\n",
       "      <th>2</th>\n",
       "      <td>2</td>\n",
       "    </tr>\n",
       "  </tbody>\n",
       "</table>\n",
       "</div>"
      ],
      "text/plain": [
       "   field1\n",
       "0       0\n",
       "1       1\n",
       "2       2"
      ]
     },
     "execution_count": 19,
     "metadata": {},
     "output_type": "execute_result"
    }
   ],
   "source": [
    "df = pd.DataFrame({'field1': range(3)})\n",
    "df"
   ]
  },
  {
   "cell_type": "code",
   "execution_count": 20,
   "id": "86b46841-acaa-492d-9c25-75a7b90b8559",
   "metadata": {
    "tags": []
   },
   "outputs": [
    {
     "data": {
      "text/plain": [
       "0    999\n",
       "1      1\n",
       "2      2\n",
       "Name: field1, dtype: int64"
      ]
     },
     "execution_count": 20,
     "metadata": {},
     "output_type": "execute_result"
    }
   ],
   "source": [
    "field1 = df['field1']\n",
    "field1.iloc[0] = 999\n",
    "field1"
   ]
  },
  {
   "cell_type": "code",
   "execution_count": 21,
   "id": "a146af32-5c05-4b14-b2ab-ad65a57dade6",
   "metadata": {
    "tags": []
   },
   "outputs": [
    {
     "data": {
      "text/html": [
       "<div>\n",
       "<style scoped>\n",
       "    .dataframe tbody tr th:only-of-type {\n",
       "        vertical-align: middle;\n",
       "    }\n",
       "\n",
       "    .dataframe tbody tr th {\n",
       "        vertical-align: top;\n",
       "    }\n",
       "\n",
       "    .dataframe thead th {\n",
       "        text-align: right;\n",
       "    }\n",
       "</style>\n",
       "<table border=\"1\" class=\"dataframe\">\n",
       "  <thead>\n",
       "    <tr style=\"text-align: right;\">\n",
       "      <th></th>\n",
       "      <th>field1</th>\n",
       "    </tr>\n",
       "  </thead>\n",
       "  <tbody>\n",
       "    <tr>\n",
       "      <th>0</th>\n",
       "      <td>999</td>\n",
       "    </tr>\n",
       "    <tr>\n",
       "      <th>1</th>\n",
       "      <td>1</td>\n",
       "    </tr>\n",
       "    <tr>\n",
       "      <th>2</th>\n",
       "      <td>2</td>\n",
       "    </tr>\n",
       "  </tbody>\n",
       "</table>\n",
       "</div>"
      ],
      "text/plain": [
       "   field1\n",
       "0     999\n",
       "1       1\n",
       "2       2"
      ]
     },
     "execution_count": 21,
     "metadata": {},
     "output_type": "execute_result"
    }
   ],
   "source": [
    "df"
   ]
  },
  {
   "cell_type": "code",
   "execution_count": 22,
   "id": "fcf829eb-5e07-41f8-a36f-d5e1447f46b4",
   "metadata": {
    "tags": []
   },
   "outputs": [],
   "source": [
    "pd.set_option(\"mode.copy_on_write\", True)"
   ]
  },
  {
   "cell_type": "code",
   "execution_count": 23,
   "id": "4546d08e-71e9-4f06-a463-ef5c49009be9",
   "metadata": {
    "tags": []
   },
   "outputs": [
    {
     "data": {
      "text/html": [
       "<div>\n",
       "<style scoped>\n",
       "    .dataframe tbody tr th:only-of-type {\n",
       "        vertical-align: middle;\n",
       "    }\n",
       "\n",
       "    .dataframe tbody tr th {\n",
       "        vertical-align: top;\n",
       "    }\n",
       "\n",
       "    .dataframe thead th {\n",
       "        text-align: right;\n",
       "    }\n",
       "</style>\n",
       "<table border=\"1\" class=\"dataframe\">\n",
       "  <thead>\n",
       "    <tr style=\"text-align: right;\">\n",
       "      <th></th>\n",
       "      <th>field1</th>\n",
       "    </tr>\n",
       "  </thead>\n",
       "  <tbody>\n",
       "    <tr>\n",
       "      <th>0</th>\n",
       "      <td>0</td>\n",
       "    </tr>\n",
       "    <tr>\n",
       "      <th>1</th>\n",
       "      <td>1</td>\n",
       "    </tr>\n",
       "    <tr>\n",
       "      <th>2</th>\n",
       "      <td>2</td>\n",
       "    </tr>\n",
       "  </tbody>\n",
       "</table>\n",
       "</div>"
      ],
      "text/plain": [
       "   field1\n",
       "0       0\n",
       "1       1\n",
       "2       2"
      ]
     },
     "execution_count": 23,
     "metadata": {},
     "output_type": "execute_result"
    }
   ],
   "source": [
    "df = pd.DataFrame({'field1': range(3)})\n",
    "df"
   ]
  },
  {
   "cell_type": "code",
   "execution_count": 24,
   "id": "702aaca9-98fb-42fc-a10f-fba983a9ac5f",
   "metadata": {
    "tags": []
   },
   "outputs": [
    {
     "data": {
      "text/plain": [
       "0    999\n",
       "1      1\n",
       "2      2\n",
       "Name: field1, dtype: int64"
      ]
     },
     "execution_count": 24,
     "metadata": {},
     "output_type": "execute_result"
    }
   ],
   "source": [
    "field1 = df['field1']\n",
    "field1.iloc[0] = 999\n",
    "field1"
   ]
  },
  {
   "cell_type": "code",
   "execution_count": 25,
   "id": "2a2de598-c6e4-49b4-bc19-38d3f53250a9",
   "metadata": {
    "tags": []
   },
   "outputs": [
    {
     "data": {
      "text/html": [
       "<div>\n",
       "<style scoped>\n",
       "    .dataframe tbody tr th:only-of-type {\n",
       "        vertical-align: middle;\n",
       "    }\n",
       "\n",
       "    .dataframe tbody tr th {\n",
       "        vertical-align: top;\n",
       "    }\n",
       "\n",
       "    .dataframe thead th {\n",
       "        text-align: right;\n",
       "    }\n",
       "</style>\n",
       "<table border=\"1\" class=\"dataframe\">\n",
       "  <thead>\n",
       "    <tr style=\"text-align: right;\">\n",
       "      <th></th>\n",
       "      <th>field1</th>\n",
       "    </tr>\n",
       "  </thead>\n",
       "  <tbody>\n",
       "    <tr>\n",
       "      <th>0</th>\n",
       "      <td>0</td>\n",
       "    </tr>\n",
       "    <tr>\n",
       "      <th>1</th>\n",
       "      <td>1</td>\n",
       "    </tr>\n",
       "    <tr>\n",
       "      <th>2</th>\n",
       "      <td>2</td>\n",
       "    </tr>\n",
       "  </tbody>\n",
       "</table>\n",
       "</div>"
      ],
      "text/plain": [
       "   field1\n",
       "0       0\n",
       "1       1\n",
       "2       2"
      ]
     },
     "execution_count": 25,
     "metadata": {},
     "output_type": "execute_result"
    }
   ],
   "source": [
    "df"
   ]
  }
 ],
 "metadata": {
  "kernelspec": {
   "display_name": "Python 3 (ipykernel)",
   "language": "python",
   "name": "python3"
  },
  "language_info": {
   "codemirror_mode": {
    "name": "ipython",
    "version": 3
   },
   "file_extension": ".py",
   "mimetype": "text/x-python",
   "name": "python",
   "nbconvert_exporter": "python",
   "pygments_lexer": "ipython3",
   "version": "3.8.16"
  }
 },
 "nbformat": 4,
 "nbformat_minor": 5
}
