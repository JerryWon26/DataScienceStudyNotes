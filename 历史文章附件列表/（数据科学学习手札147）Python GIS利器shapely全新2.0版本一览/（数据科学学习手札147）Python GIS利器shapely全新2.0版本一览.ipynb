{
 "cells": [
  {
   "cell_type": "markdown",
   "id": "bed3e77b-6878-43e6-905b-b386396ea613",
   "metadata": {},
   "source": [
    "# 2 shapely 2.0重要新特性一览"
   ]
  },
  {
   "cell_type": "markdown",
   "id": "36458330-7aa8-487e-9d09-fe7f9d7d993b",
   "metadata": {},
   "source": [
    "## 2.1 向量化矢量操作带来高达百倍的性能提升"
   ]
  },
  {
   "cell_type": "code",
   "execution_count": 1,
   "id": "b12edcce-13f4-46af-b473-191953f158ea",
   "metadata": {},
   "outputs": [
    {
     "data": {
      "text/plain": [
       "'2.0.0'"
      ]
     },
     "execution_count": 1,
     "metadata": {},
     "output_type": "execute_result"
    }
   ],
   "source": [
    "import shapely\n",
    "shapely.__version__"
   ]
  },
  {
   "cell_type": "code",
   "execution_count": 2,
   "id": "7b1a384f-72b9-4ae3-9220-b92580c6160a",
   "metadata": {},
   "outputs": [],
   "source": [
    "import numpy as np\n",
    "from shapely import Polygon, Point\n",
    "\n",
    "# 构造示例要素，以判断面要素是否包含点要素为例\n",
    "polygon1 = Polygon([(0, 0), (1, 0), (1, 1), (0, 1)])\n",
    "points = [Point(i*0.1, i*0.1) for i in range(10000)]\n",
    "points_array = np.array(points)"
   ]
  },
  {
   "cell_type": "code",
   "execution_count": 3,
   "id": "923b588d-cc7c-4f93-95fc-d796fdcc2301",
   "metadata": {},
   "outputs": [
    {
     "name": "stdout",
     "output_type": "stream",
     "text": [
      "97.6 ms ± 32.1 ms per loop (mean ± std. dev. of 7 runs, 10 loops each)\n"
     ]
    }
   ],
   "source": [
    "%%timeit\n",
    "# 常规的标量一对一运算\n",
    "_ = [polygon1.contains(point) for point in points]"
   ]
  },
  {
   "cell_type": "code",
   "execution_count": 4,
   "id": "1f4d929a-c45e-4b17-933f-cdbc82872e80",
   "metadata": {},
   "outputs": [
    {
     "name": "stdout",
     "output_type": "stream",
     "text": [
      "23.1 ms ± 1.85 ms per loop (mean ± std. dev. of 7 runs, 10 loops each)\n"
     ]
    }
   ],
   "source": [
    "%%timeit\n",
    "# 已有的要素列表批量运算\n",
    "shapely.contains(polygon1, points)"
   ]
  },
  {
   "cell_type": "code",
   "execution_count": 5,
   "id": "9f22f5ef-10d3-44ee-8003-d6ec2ea1a8d1",
   "metadata": {},
   "outputs": [
    {
     "name": "stdout",
     "output_type": "stream",
     "text": [
      "295 µs ± 30.4 µs per loop (mean ± std. dev. of 7 runs, 1,000 loops each)\n"
     ]
    }
   ],
   "source": [
    "%%timeit\n",
    "# 新的向量化运算支持\n",
    "shapely.contains(polygon1, points_array)"
   ]
  },
  {
   "cell_type": "markdown",
   "id": "ca54dd4b-02ab-4b33-b970-a68bd9d6bec2",
   "metadata": {},
   "source": [
    "## 2.2 矢量对象不可变"
   ]
  },
  {
   "cell_type": "code",
   "execution_count": 6,
   "id": "8388dd0f-2e43-49a2-8810-01d761729f2a",
   "metadata": {},
   "outputs": [
    {
     "data": {
      "text/plain": [
       "{<POINT (0.231 1.321)>: 999}"
      ]
     },
     "execution_count": 6,
     "metadata": {},
     "output_type": "execute_result"
    }
   ],
   "source": [
    "# 矢量要素对象充当字典的键\n",
    "point1 = Point(0.231, 1.3213)\n",
    "demo_dict = {point1: 999}\n",
    "demo_dict"
   ]
  },
  {
   "cell_type": "code",
   "execution_count": 7,
   "id": "42630eb1-5a8a-4db8-9adc-5d9323a2d123",
   "metadata": {},
   "outputs": [
    {
     "data": {
      "text/plain": [
       "999"
      ]
     },
     "execution_count": 7,
     "metadata": {},
     "output_type": "execute_result"
    }
   ],
   "source": [
    "demo_dict[point1]"
   ]
  },
  {
   "cell_type": "code",
   "execution_count": 8,
   "id": "a288b37e-4121-4c62-8ae9-5b95c44b79ee",
   "metadata": {},
   "outputs": [
    {
     "data": {
      "text/html": [
       "<div>\n",
       "<style scoped>\n",
       "    .dataframe tbody tr th:only-of-type {\n",
       "        vertical-align: middle;\n",
       "    }\n",
       "\n",
       "    .dataframe tbody tr th {\n",
       "        vertical-align: top;\n",
       "    }\n",
       "\n",
       "    .dataframe thead th {\n",
       "        text-align: right;\n",
       "    }\n",
       "</style>\n",
       "<table border=\"1\" class=\"dataframe\">\n",
       "  <thead>\n",
       "    <tr style=\"text-align: right;\">\n",
       "      <th></th>\n",
       "      <th>value</th>\n",
       "      <th>geometry</th>\n",
       "    </tr>\n",
       "  </thead>\n",
       "  <tbody>\n",
       "    <tr>\n",
       "      <th>0</th>\n",
       "      <td>0.775280</td>\n",
       "      <td>POINT (0.00000 0.00000)</td>\n",
       "    </tr>\n",
       "    <tr>\n",
       "      <th>1</th>\n",
       "      <td>0.971165</td>\n",
       "      <td>POINT (1.00000 1.00000)</td>\n",
       "    </tr>\n",
       "    <tr>\n",
       "      <th>2</th>\n",
       "      <td>0.520033</td>\n",
       "      <td>POINT (0.00000 0.00000)</td>\n",
       "    </tr>\n",
       "  </tbody>\n",
       "</table>\n",
       "</div>"
      ],
      "text/plain": [
       "      value                 geometry\n",
       "0  0.775280  POINT (0.00000 0.00000)\n",
       "1  0.971165  POINT (1.00000 1.00000)\n",
       "2  0.520033  POINT (0.00000 0.00000)"
      ]
     },
     "execution_count": 8,
     "metadata": {},
     "output_type": "execute_result"
    }
   ],
   "source": [
    "# 矢量要素作为pandas的分组运算依据\n",
    "import geopandas as gpd\n",
    "\n",
    "demo_gdf = gpd.GeoDataFrame({\n",
    "    'value': np.random.rand(10),\n",
    "    'geometry': [Point(i % 2, i % 2) for i in range(10)]\n",
    "})\n",
    "demo_gdf.head(3)"
   ]
  },
  {
   "cell_type": "code",
   "execution_count": 9,
   "id": "0554cd0e-f2ef-4db3-b9e4-f7938fcd2e67",
   "metadata": {},
   "outputs": [
    {
     "data": {
      "text/html": [
       "<div>\n",
       "<style scoped>\n",
       "    .dataframe tbody tr th:only-of-type {\n",
       "        vertical-align: middle;\n",
       "    }\n",
       "\n",
       "    .dataframe tbody tr th {\n",
       "        vertical-align: top;\n",
       "    }\n",
       "\n",
       "    .dataframe thead th {\n",
       "        text-align: right;\n",
       "    }\n",
       "</style>\n",
       "<table border=\"1\" class=\"dataframe\">\n",
       "  <thead>\n",
       "    <tr style=\"text-align: right;\">\n",
       "      <th></th>\n",
       "      <th>value</th>\n",
       "    </tr>\n",
       "    <tr>\n",
       "      <th>geometry</th>\n",
       "      <th></th>\n",
       "    </tr>\n",
       "  </thead>\n",
       "  <tbody>\n",
       "    <tr>\n",
       "      <th>POINT (0.00000 0.00000)</th>\n",
       "      <td>3.350294</td>\n",
       "    </tr>\n",
       "    <tr>\n",
       "      <th>POINT (1.00000 1.00000)</th>\n",
       "      <td>2.929552</td>\n",
       "    </tr>\n",
       "  </tbody>\n",
       "</table>\n",
       "</div>"
      ],
      "text/plain": [
       "                            value\n",
       "geometry                         \n",
       "POINT (0.00000 0.00000)  3.350294\n",
       "POINT (1.00000 1.00000)  2.929552"
      ]
     },
     "execution_count": 9,
     "metadata": {},
     "output_type": "execute_result"
    }
   ],
   "source": [
    "# 注意要设置sort=False\n",
    "demo_gdf.groupby('geometry', sort=False).agg({'value': 'sum'})"
   ]
  },
  {
   "cell_type": "markdown",
   "id": "6e8ed93e-0b24-4de4-9a80-a662cf503ec3",
   "metadata": {},
   "source": [
    "## 2.3 矢量要素类可作为顶级API使用"
   ]
  },
  {
   "cell_type": "code",
   "execution_count": 10,
   "id": "861db473-2805-4c32-98e2-6b4484056de5",
   "metadata": {},
   "outputs": [],
   "source": [
    "# 新的可选导入方式\n",
    "from shapely import (\n",
    "    Point, LineString, LinearRing, Polygon, box,\n",
    "    MultiPoint, MultiLineString, MultiPolygon\n",
    ")"
   ]
  },
  {
   "cell_type": "markdown",
   "id": "ef83b66c-3111-42a2-902f-591dcafd0f6c",
   "metadata": {},
   "source": [
    "## 2.4 多部件要素不再可视作序列型对象"
   ]
  },
  {
   "cell_type": "code",
   "execution_count": 11,
   "id": "dd7ed314-a446-4fa2-b090-2830dfdd5525",
   "metadata": {},
   "outputs": [
    {
     "name": "stdout",
     "output_type": "stream",
     "text": [
      "'MultiPoint' object is not subscriptable\n",
      "'MultiPoint' object is not iterable\n"
     ]
    }
   ],
   "source": [
    "multi_points1 = MultiPoint([Point(i, i) for i in range(5)])\n",
    "try:\n",
    "    multi_points1[0]\n",
    "except Exception as e:\n",
    "    print(e)\n",
    "try:\n",
    "    list(multi_points1)\n",
    "except Exception as e:\n",
    "    print(e)"
   ]
  },
  {
   "cell_type": "code",
   "execution_count": 12,
   "id": "ededcb73-0fda-4d0c-bc5a-564065a2a2ae",
   "metadata": {},
   "outputs": [
    {
     "data": {
      "image/svg+xml": [
       "<svg xmlns=\"http://www.w3.org/2000/svg\" xmlns:xlink=\"http://www.w3.org/1999/xlink\" width=\"100.0\" height=\"100.0\" viewBox=\"-1.0 -1.0 2.0 2.0\" preserveAspectRatio=\"xMinYMin meet\"><g transform=\"matrix(1,0,0,-1,0,0.0)\"><circle cx=\"0.0\" cy=\"0.0\" r=\"0.06\" stroke=\"#555555\" stroke-width=\"0.02\" fill=\"#66cc99\" opacity=\"0.6\" /></g></svg>"
      ],
      "text/plain": [
       "<POINT (0 0)>"
      ]
     },
     "execution_count": 12,
     "metadata": {},
     "output_type": "execute_result"
    }
   ],
   "source": [
    "# 新的迭代方式：使用其geoms属性\n",
    "multi_points1.geoms[0]"
   ]
  },
  {
   "cell_type": "code",
   "execution_count": 13,
   "id": "a5284d7b-33b6-4ac3-8cf1-76a9161fdc25",
   "metadata": {},
   "outputs": [
    {
     "data": {
      "image/svg+xml": [
       "<svg xmlns=\"http://www.w3.org/2000/svg\" xmlns:xlink=\"http://www.w3.org/1999/xlink\" width=\"100.0\" height=\"100.0\" viewBox=\"0.92 0.92 2.16 2.16\" preserveAspectRatio=\"xMinYMin meet\"><g transform=\"matrix(1,0,0,-1,0,4.0)\"><g><circle cx=\"1.0\" cy=\"1.0\" r=\"0.0648\" stroke=\"#555555\" stroke-width=\"0.0216\" fill=\"#66cc99\" opacity=\"0.6\" /><circle cx=\"2.0\" cy=\"2.0\" r=\"0.0648\" stroke=\"#555555\" stroke-width=\"0.0216\" fill=\"#66cc99\" opacity=\"0.6\" /><circle cx=\"3.0\" cy=\"3.0\" r=\"0.0648\" stroke=\"#555555\" stroke-width=\"0.0216\" fill=\"#66cc99\" opacity=\"0.6\" /></g></g></svg>"
      ],
      "text/plain": [
       "<MULTIPOINT (1 1, 2 2, 3 3)>"
      ]
     },
     "execution_count": 13,
     "metadata": {},
     "output_type": "execute_result"
    }
   ],
   "source": [
    "multi_points1.geoms[1:-1]"
   ]
  },
  {
   "cell_type": "code",
   "execution_count": 14,
   "id": "a6a09315-d121-4e08-a40f-9896c3f81dba",
   "metadata": {},
   "outputs": [
    {
     "data": {
      "text/plain": [
       "[<POINT (0 0)>, <POINT (1 1)>, <POINT (2 2)>, <POINT (3 3)>, <POINT (4 4)>]"
      ]
     },
     "execution_count": 14,
     "metadata": {},
     "output_type": "execute_result"
    }
   ],
   "source": [
    "list(multi_points1.geoms)"
   ]
  },
  {
   "cell_type": "markdown",
   "id": "ca4b0298-bef7-456d-8212-4d5bf0ba3284",
   "metadata": {},
   "source": [
    "## 2.5 矢量要素支持精度控制"
   ]
  },
  {
   "cell_type": "code",
   "execution_count": 15,
   "id": "492e7756-56b4-4baa-a81a-958ad8f7b59c",
   "metadata": {},
   "outputs": [
    {
     "data": {
      "text/plain": [
       "(1.0, 1.0)"
      ]
     },
     "execution_count": 15,
     "metadata": {},
     "output_type": "execute_result"
    }
   ],
   "source": [
    "# set_precision第2个参数用于设置精度阈值，当输入要素坐标精度超出此阈值精度时会被取整\n",
    "point2 = shapely.set_precision(Point(0.999999, 0.999999), 0.001)\n",
    "point2.x, point2.y"
   ]
  },
  {
   "cell_type": "code",
   "execution_count": 16,
   "id": "2334defc-70a7-4dbf-b618-bf523edeed72",
   "metadata": {},
   "outputs": [
    {
     "data": {
      "text/plain": [
       "(0.999999, 0.999999)"
      ]
     },
     "execution_count": 16,
     "metadata": {},
     "output_type": "execute_result"
    }
   ],
   "source": [
    "point3 = shapely.set_precision(Point(0.999999, 0.999999), 0.000001)\n",
    "point3.x, point3.y"
   ]
  },
  {
   "cell_type": "code",
   "execution_count": 17,
   "id": "af4f83dc-5510-4cde-9348-341e9a42b3de",
   "metadata": {},
   "outputs": [
    {
     "data": {
      "text/plain": [
       "0.001"
      ]
     },
     "execution_count": 17,
     "metadata": {},
     "output_type": "execute_result"
    }
   ],
   "source": [
    "shapely.get_precision(point2)"
   ]
  },
  {
   "cell_type": "code",
   "execution_count": 18,
   "id": "f5fdf1a2-cbbc-4d04-bb9b-d7412e5b8ede",
   "metadata": {},
   "outputs": [
    {
     "data": {
      "text/plain": [
       "1e-06"
      ]
     },
     "execution_count": 18,
     "metadata": {},
     "output_type": "execute_result"
    }
   ],
   "source": [
    "shapely.get_precision(point3)"
   ]
  },
  {
   "cell_type": "markdown",
   "id": "305b0a56-de7b-4eb7-80c1-ecf771fbdcc0",
   "metadata": {},
   "source": [
    "## 2.6 基于GEOS新增大量新功能函数"
   ]
  },
  {
   "cell_type": "code",
   "execution_count": 19,
   "id": "c27197d1-d5f6-4856-8134-d92eae199120",
   "metadata": {},
   "outputs": [
    {
     "data": {
      "text/plain": [
       "'3.11.1'"
      ]
     },
     "execution_count": 19,
     "metadata": {},
     "output_type": "execute_result"
    }
   ],
   "source": [
    "# 查看当前底层GEOS依赖库版本\n",
    "shapely.geos_version_string"
   ]
  },
  {
   "cell_type": "markdown",
   "id": "ee039e5f-5860-49e6-b95f-ddd746694763",
   "metadata": {},
   "source": [
    "- extract_unique_points()"
   ]
  },
  {
   "cell_type": "code",
   "execution_count": 20,
   "id": "dcb5dba7-addb-4282-838c-ad2488ed4393",
   "metadata": {},
   "outputs": [
    {
     "data": {
      "text/plain": [
       "3"
      ]
     },
     "execution_count": 20,
     "metadata": {},
     "output_type": "execute_result"
    }
   ],
   "source": [
    "# 去重后剩余3个点要素\n",
    "(\n",
    "    shapely\n",
    "    .extract_unique_points(\n",
    "            LineString(\n",
    "            [\n",
    "                Point(i, i)\n",
    "                for i in [1, 2, 3, 2, 1]\n",
    "            ]\n",
    "        )\n",
    "    )\n",
    "    .geoms\n",
    "    .__len__()\n",
    ")"
   ]
  },
  {
   "cell_type": "markdown",
   "id": "4ddb5a65-fd25-42d7-9a19-d9d42d4da4e5",
   "metadata": {},
   "source": [
    "- node()"
   ]
  },
  {
   "cell_type": "code",
   "execution_count": 21,
   "id": "d4434982-7342-4f3b-b992-82810d736f33",
   "metadata": {},
   "outputs": [
    {
     "data": {
      "image/svg+xml": [
       "<svg xmlns=\"http://www.w3.org/2000/svg\" xmlns:xlink=\"http://www.w3.org/1999/xlink\" width=\"100.0\" height=\"100.0\" viewBox=\"-0.04 -0.04 1.08 1.08\" preserveAspectRatio=\"xMinYMin meet\"><g transform=\"matrix(1,0,0,-1,0,1.0)\"><polyline fill=\"none\" stroke=\"#66cc99\" stroke-width=\"0.0216\" points=\"0.0,0.0 1.0,1.0 1.0,0.0 0.0,1.0\" opacity=\"0.8\" /></g></svg>"
      ],
      "text/plain": [
       "<LINESTRING (0 0, 1 1, 1 0, 0 1)>"
      ]
     },
     "execution_count": 21,
     "metadata": {},
     "output_type": "execute_result"
    }
   ],
   "source": [
    "node_line_demo = LineString(\n",
    "    [\n",
    "        (0, 0), (1, 1), (1, 0), (0, 1)\n",
    "    ]\n",
    ")\n",
    "node_line_demo"
   ]
  },
  {
   "cell_type": "code",
   "execution_count": 22,
   "id": "50e9208e-52c9-4ef5-a001-d8f4d110a4b8",
   "metadata": {},
   "outputs": [
    {
     "data": {
      "text/plain": [
       "3"
      ]
     },
     "execution_count": 22,
     "metadata": {},
     "output_type": "execute_result"
    }
   ],
   "source": [
    "len(shapely.node(node_line_demo).geoms)"
   ]
  },
  {
   "cell_type": "code",
   "execution_count": 23,
   "id": "d42ec578-5adf-4eeb-b056-508372f716b4",
   "metadata": {},
   "outputs": [
    {
     "data": {
      "image/svg+xml": [
       "<svg xmlns=\"http://www.w3.org/2000/svg\" xmlns:xlink=\"http://www.w3.org/1999/xlink\" width=\"100.0\" height=\"100.0\" viewBox=\"-0.02 -0.02 0.54 0.54\" preserveAspectRatio=\"xMinYMin meet\"><g transform=\"matrix(1,0,0,-1,0,0.5)\"><polyline fill=\"none\" stroke=\"#66cc99\" stroke-width=\"0.0108\" points=\"0.0,0.0 0.5,0.5\" opacity=\"0.8\" /></g></svg>"
      ],
      "text/plain": [
       "<LINESTRING (0 0, 0.5 0.5)>"
      ]
     },
     "execution_count": 23,
     "metadata": {},
     "output_type": "execute_result"
    }
   ],
   "source": [
    "shapely.node(node_line_demo).geoms[0]"
   ]
  },
  {
   "cell_type": "code",
   "execution_count": 24,
   "id": "abda7607-08c5-4912-814b-4fd3cf3f77a6",
   "metadata": {},
   "outputs": [
    {
     "data": {
      "image/svg+xml": [
       "<svg xmlns=\"http://www.w3.org/2000/svg\" xmlns:xlink=\"http://www.w3.org/1999/xlink\" width=\"100.0\" height=\"100.0\" viewBox=\"0.46 -0.04 0.5800000000000001 1.08\" preserveAspectRatio=\"xMinYMin meet\"><g transform=\"matrix(1,0,0,-1,0,1.0)\"><polyline fill=\"none\" stroke=\"#66cc99\" stroke-width=\"0.0216\" points=\"0.5,0.5 1.0,1.0 1.0,0.0 0.5,0.5\" opacity=\"0.8\" /></g></svg>"
      ],
      "text/plain": [
       "<LINESTRING (0.5 0.5, 1 1, 1 0, 0.5 0.5)>"
      ]
     },
     "execution_count": 24,
     "metadata": {},
     "output_type": "execute_result"
    }
   ],
   "source": [
    "shapely.node(node_line_demo).geoms[1]"
   ]
  },
  {
   "cell_type": "code",
   "execution_count": 25,
   "id": "06030a2f-2ed9-4c65-bd5e-17c8a7e3b3e6",
   "metadata": {},
   "outputs": [
    {
     "data": {
      "image/svg+xml": [
       "<svg xmlns=\"http://www.w3.org/2000/svg\" xmlns:xlink=\"http://www.w3.org/1999/xlink\" width=\"100.0\" height=\"100.0\" viewBox=\"-0.02 0.48 0.54 0.54\" preserveAspectRatio=\"xMinYMin meet\"><g transform=\"matrix(1,0,0,-1,0,1.5)\"><polyline fill=\"none\" stroke=\"#66cc99\" stroke-width=\"0.0108\" points=\"0.5,0.5 0.0,1.0\" opacity=\"0.8\" /></g></svg>"
      ],
      "text/plain": [
       "<LINESTRING (0.5 0.5, 0 1)>"
      ]
     },
     "execution_count": 25,
     "metadata": {},
     "output_type": "execute_result"
    }
   ],
   "source": [
    "shapely.node(node_line_demo).geoms[2]"
   ]
  },
  {
   "cell_type": "markdown",
   "id": "1182a6b8-444f-4a33-bdc4-860ece7be578",
   "metadata": {},
   "source": [
    "- minimum_bounding_circle()与minimum_bounding_radius()"
   ]
  },
  {
   "cell_type": "code",
   "execution_count": 26,
   "id": "65e10b20-be82-4e19-9159-930d38993588",
   "metadata": {},
   "outputs": [
    {
     "data": {
      "image/svg+xml": [
       "<svg xmlns=\"http://www.w3.org/2000/svg\" xmlns:xlink=\"http://www.w3.org/1999/xlink\" width=\"100.0\" height=\"100.0\" viewBox=\"-0.04 -0.04 1.08 1.08\" preserveAspectRatio=\"xMinYMin meet\"><g transform=\"matrix(1,0,0,-1,0,1.0)\"><path fill-rule=\"evenodd\" fill=\"#66cc99\" stroke=\"#555555\" stroke-width=\"0.0216\" opacity=\"0.6\" d=\"M 0.0,0.0 L 1.0,0.0 L 1.0,1.0 L 0.0,0.0 z\" /></g></svg>"
      ],
      "text/plain": [
       "<POLYGON ((0 0, 1 0, 1 1, 0 0))>"
      ]
     },
     "execution_count": 26,
     "metadata": {},
     "output_type": "execute_result"
    }
   ],
   "source": [
    "demo_polygon = Polygon([(0, 0), (1, 0), (1, 1)])\n",
    "demo_polygon"
   ]
  },
  {
   "cell_type": "code",
   "execution_count": 27,
   "id": "ae5f959f-aa6c-43eb-a1a7-ebfd8b62787f",
   "metadata": {},
   "outputs": [
    {
     "data": {
      "image/svg+xml": [
       "<svg xmlns=\"http://www.w3.org/2000/svg\" xmlns:xlink=\"http://www.w3.org/1999/xlink\" width=\"100.0\" height=\"100.0\" viewBox=\"-0.2636753236814714 -0.2636753236814714 1.5273506473629426 1.5273506473629426\" preserveAspectRatio=\"xMinYMin meet\"><g transform=\"matrix(1,0,0,-1,0,0.9999999999999999)\"><path fill-rule=\"evenodd\" fill=\"#66cc99\" stroke=\"#555555\" stroke-width=\"0.030547012947258853\" opacity=\"0.6\" d=\"M 1.2071067811865475,0.5 L 1.1935199226610738,0.3620503103585285 L 1.1532814824381883,0.2294019499269015 L 1.0879378012096794,0.10715252080644894 L 1.0,-1.1102230246251565e-16 L 0.8928474791935512,-0.08793780120967942 L 0.7705980500730986,-0.1532814824381883 L 0.6379496896414716,-0.19351992266107376 L 0.5,-0.20710678118654757 L 0.3620503103585285,-0.19351992266107376 L 0.2294019499269015,-0.1532814824381883 L 0.10715252080644905,-0.08793780120967942 L 0.0,-1.1102230246251565e-16 L -0.08793780120967942,0.10715252080644894 L -0.1532814824381883,0.22940194992690138 L -0.19351992266107376,0.36205031035852825 L -0.20710678118654757,0.4999999999999999 L -0.19351992266107376,0.6379496896414716 L -0.1532814824381884,0.7705980500730985 L -0.08793780120967953,0.892847479193551 L -1.1102230246251565e-16,1.0 L 0.10715252080644894,1.0879378012096794 L 0.2294019499269011,1.1532814824381883 L 0.3620503103585282,1.1935199226610735 L 0.4999999999999999,1.2071067811865475 L 0.6379496896414716,1.1935199226610738 L 0.7705980500730987,1.1532814824381883 L 0.8928474791935508,1.0879378012096796 L 0.9999999999999999,1.0 L 1.0879378012096794,0.892847479193551 L 1.1532814824381883,0.7705980500730989 L 1.1935199226610735,0.6379496896414718 L 1.2071067811865475,0.5 z\" /></g></svg>"
      ],
      "text/plain": [
       "<POLYGON ((1.207 0.5, 1.194 0.362, 1.153 0.229, 1.088 0.107, 1 0, 0.893 -0.0...>"
      ]
     },
     "execution_count": 27,
     "metadata": {},
     "output_type": "execute_result"
    }
   ],
   "source": [
    "shapely.minimum_bounding_circle(demo_polygon)"
   ]
  },
  {
   "cell_type": "code",
   "execution_count": 28,
   "id": "d1bc6087-b973-48c7-9831-77dfd23f867e",
   "metadata": {},
   "outputs": [
    {
     "data": {
      "text/plain": [
       "0.7071067811865476"
      ]
     },
     "execution_count": 28,
     "metadata": {},
     "output_type": "execute_result"
    }
   ],
   "source": [
    "shapely.minimum_bounding_radius(demo_polygon)"
   ]
  },
  {
   "cell_type": "code",
   "execution_count": 29,
   "id": "aea1241c-fdad-4197-8f9d-cd5ad528245f",
   "metadata": {},
   "outputs": [
    {
     "data": {
      "text/plain": [
       "0.7071067811865476"
      ]
     },
     "execution_count": 29,
     "metadata": {},
     "output_type": "execute_result"
    }
   ],
   "source": [
    "2 ** 0.5 / 2"
   ]
  },
  {
   "cell_type": "markdown",
   "id": "d23c311e-f1e5-425f-9b97-9902ae733caf",
   "metadata": {},
   "source": [
    "- dwithin()"
   ]
  },
  {
   "cell_type": "code",
   "execution_count": 30,
   "id": "85452bed-121e-408a-a85c-448a6ab0e454",
   "metadata": {},
   "outputs": [
    {
     "data": {
      "text/plain": [
       "True"
      ]
     },
     "execution_count": 30,
     "metadata": {},
     "output_type": "execute_result"
    }
   ],
   "source": [
    "dwithin_demo_point = Point(0, 0)\n",
    "shapely.dwithin(dwithin_demo_point, Point(1, 1), 1.5)"
   ]
  },
  {
   "cell_type": "code",
   "execution_count": 31,
   "id": "002e3d5a-0d47-4c94-af84-c8a3d696daca",
   "metadata": {},
   "outputs": [
    {
     "data": {
      "text/plain": [
       "False"
      ]
     },
     "execution_count": 31,
     "metadata": {},
     "output_type": "execute_result"
    }
   ],
   "source": [
    "shapely.dwithin(dwithin_demo_point, Point(1, 1), 1)"
   ]
  },
  {
   "cell_type": "code",
   "execution_count": 32,
   "id": "2c548462-29f6-4492-af90-8fc4c90df1b2",
   "metadata": {},
   "outputs": [
    {
     "data": {
      "text/plain": [
       "array([False, False,  True,  True,  True, False])"
      ]
     },
     "execution_count": 32,
     "metadata": {},
     "output_type": "execute_result"
    }
   ],
   "source": [
    "# 批量判断\n",
    "shapely.dwithin(dwithin_demo_point, \n",
    "                np.array([Point(i, i) for i in range(-3, 3)]),\n",
    "                1.5)"
   ]
  },
  {
   "cell_type": "markdown",
   "id": "6f719c80-4938-4f19-b0a8-8c58098e7c52",
   "metadata": {},
   "source": [
    "## 2.7 新增force_2d()、force_3d()函数"
   ]
  },
  {
   "cell_type": "code",
   "execution_count": 33,
   "id": "a7fcadd8-9bd2-4854-83f4-27014067c427",
   "metadata": {},
   "outputs": [
    {
     "data": {
      "text/plain": [
       "2"
      ]
     },
     "execution_count": 33,
     "metadata": {},
     "output_type": "execute_result"
    }
   ],
   "source": [
    "# 利用get_coordinate_dimension()可以查询目标要素的坐标维度\n",
    "# 强制3d转2d\n",
    "shapely.get_coordinate_dimension(shapely.force_2d(Point(0, 0, 0)))"
   ]
  },
  {
   "cell_type": "code",
   "execution_count": 34,
   "id": "467b00fb-ee36-4501-aab6-b3179c43bc5d",
   "metadata": {},
   "outputs": [
    {
     "data": {
      "text/plain": [
       "3"
      ]
     },
     "execution_count": 34,
     "metadata": {},
     "output_type": "execute_result"
    }
   ],
   "source": [
    "# 强制2d转3d\n",
    "shapely.get_coordinate_dimension(shapely.force_3d(Point(0, 0)))"
   ]
  }
 ],
 "metadata": {
  "kernelspec": {
   "display_name": "Python 3 (ipykernel)",
   "language": "python",
   "name": "python3"
  },
  "language_info": {
   "codemirror_mode": {
    "name": "ipython",
    "version": 3
   },
   "file_extension": ".py",
   "mimetype": "text/x-python",
   "name": "python",
   "nbconvert_exporter": "python",
   "pygments_lexer": "ipython3",
   "version": "3.11.0"
  }
 },
 "nbformat": 4,
 "nbformat_minor": 5
}
