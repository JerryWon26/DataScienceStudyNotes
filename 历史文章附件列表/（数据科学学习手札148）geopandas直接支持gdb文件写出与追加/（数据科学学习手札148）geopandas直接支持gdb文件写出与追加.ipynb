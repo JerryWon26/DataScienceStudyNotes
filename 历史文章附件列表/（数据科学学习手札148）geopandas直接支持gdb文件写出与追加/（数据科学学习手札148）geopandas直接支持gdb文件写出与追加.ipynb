{
 "cells": [
  {
   "cell_type": "markdown",
   "id": "9e0fc620-139e-4567-ab97-6d9f246b6594",
   "metadata": {},
   "source": [
    "# 2 geopandas直接支持gdb文件写出追加"
   ]
  },
  {
   "cell_type": "code",
   "execution_count": 1,
   "id": "0882292c-2891-4f61-bea9-172118b78c4e",
   "metadata": {},
   "outputs": [
    {
     "name": "stdout",
     "output_type": "stream",
     "text": [
      "Name: GDAL\n",
      "Version: 3.6.1\n",
      "Summary: GDAL: Geospatial Data Abstraction Library\n",
      "Home-page: http://www.gdal.org\n",
      "Author: Frank Warmerdam\n",
      "Author-email: warmerdam@pobox.com\n",
      "License: MIT\n",
      "Location: C:\\Software\\Conda\\envs\\data-science\\Lib\\site-packages\n",
      "Requires: \n",
      "Required-by: \n"
     ]
    }
   ],
   "source": [
    "!pip show gdal"
   ]
  },
  {
   "cell_type": "code",
   "execution_count": 2,
   "id": "661f5750-2cf9-4fe7-ad41-3c9a43cf70ef",
   "metadata": {},
   "outputs": [
    {
     "data": {
      "text/plain": [
       "{'DXF': 'rw',\n",
       " 'CSV': 'raw',\n",
       " 'OpenFileGDB': 'raw',\n",
       " 'ESRIJSON': 'r',\n",
       " 'ESRI Shapefile': 'raw',\n",
       " 'FlatGeobuf': 'raw',\n",
       " 'GeoJSON': 'raw',\n",
       " 'GeoJSONSeq': 'raw',\n",
       " 'GPKG': 'raw',\n",
       " 'GML': 'rw',\n",
       " 'OGR_GMT': 'rw',\n",
       " 'GPX': 'rw',\n",
       " 'Idrisi': 'r',\n",
       " 'MapInfo File': 'raw',\n",
       " 'DGN': 'raw',\n",
       " 'PCIDSK': 'raw',\n",
       " 'OGR_PDS': 'r',\n",
       " 'S57': 'r',\n",
       " 'SQLite': 'raw',\n",
       " 'TopoJSON': 'r'}"
      ]
     },
     "execution_count": 2,
     "metadata": {},
     "output_type": "execute_result"
    }
   ],
   "source": [
    "import fiona;fiona.supported_drivers"
   ]
  },
  {
   "cell_type": "code",
   "execution_count": 3,
   "id": "37e0e285-1f5b-423c-b043-bbb4eddfe947",
   "metadata": {},
   "outputs": [
    {
     "data": {
      "text/html": [
       "<div>\n",
       "<style scoped>\n",
       "    .dataframe tbody tr th:only-of-type {\n",
       "        vertical-align: middle;\n",
       "    }\n",
       "\n",
       "    .dataframe tbody tr th {\n",
       "        vertical-align: top;\n",
       "    }\n",
       "\n",
       "    .dataframe thead th {\n",
       "        text-align: right;\n",
       "    }\n",
       "</style>\n",
       "<table border=\"1\" class=\"dataframe\">\n",
       "  <thead>\n",
       "    <tr style=\"text-align: right;\">\n",
       "      <th></th>\n",
       "      <th>id</th>\n",
       "      <th>geometry</th>\n",
       "    </tr>\n",
       "  </thead>\n",
       "  <tbody>\n",
       "    <tr>\n",
       "      <th>0</th>\n",
       "      <td>0</td>\n",
       "      <td>POINT (0.00000 0.00000)</td>\n",
       "    </tr>\n",
       "    <tr>\n",
       "      <th>1</th>\n",
       "      <td>1</td>\n",
       "      <td>POINT (1.00000 1.00000)</td>\n",
       "    </tr>\n",
       "    <tr>\n",
       "      <th>2</th>\n",
       "      <td>2</td>\n",
       "      <td>POINT (2.00000 2.00000)</td>\n",
       "    </tr>\n",
       "  </tbody>\n",
       "</table>\n",
       "</div>"
      ],
      "text/plain": [
       "   id                 geometry\n",
       "0   0  POINT (0.00000 0.00000)\n",
       "1   1  POINT (1.00000 1.00000)\n",
       "2   2  POINT (2.00000 2.00000)"
      ]
     },
     "execution_count": 3,
     "metadata": {},
     "output_type": "execute_result"
    }
   ],
   "source": [
    "# 支持直接写出和读取zip格式的gdb压缩文件\n",
    "import shutil\n",
    "import geopandas as gpd\n",
    "from shapely.geometry import Point\n",
    "\n",
    "demo_gdf = gpd.GeoDataFrame({\n",
    "    'id': range(3),\n",
    "    'geometry': [Point(i, i) for i in range(3)]\n",
    "})\n",
    "demo_gdf"
   ]
  },
  {
   "cell_type": "code",
   "execution_count": 4,
   "id": "39fea1e1-4f07-4a85-999e-18b82413e1cf",
   "metadata": {},
   "outputs": [
    {
     "data": {
      "text/plain": [
       "'C:\\\\Users\\\\CNFeffery\\\\Desktop\\\\博客工作台\\\\demo.gdb.zip'"
      ]
     },
     "execution_count": 4,
     "metadata": {},
     "output_type": "execute_result"
    }
   ],
   "source": [
    "# 写出到原始的gdb文件夹中\n",
    "demo_gdf.to_file('demo.gdb', driver='OpenFileGDB')\n",
    "# 利用shutil打包为zip文件\n",
    "shutil.make_archive('demo.gdb', 'zip', 'demo.gdb')"
   ]
  },
  {
   "cell_type": "code",
   "execution_count": 5,
   "id": "833d03ce-f88c-463e-9269-7981715d346c",
   "metadata": {},
   "outputs": [
    {
     "data": {
      "text/html": [
       "<div>\n",
       "<style scoped>\n",
       "    .dataframe tbody tr th:only-of-type {\n",
       "        vertical-align: middle;\n",
       "    }\n",
       "\n",
       "    .dataframe tbody tr th {\n",
       "        vertical-align: top;\n",
       "    }\n",
       "\n",
       "    .dataframe thead th {\n",
       "        text-align: right;\n",
       "    }\n",
       "</style>\n",
       "<table border=\"1\" class=\"dataframe\">\n",
       "  <thead>\n",
       "    <tr style=\"text-align: right;\">\n",
       "      <th></th>\n",
       "      <th>id</th>\n",
       "      <th>geometry</th>\n",
       "    </tr>\n",
       "  </thead>\n",
       "  <tbody>\n",
       "    <tr>\n",
       "      <th>0</th>\n",
       "      <td>0.0</td>\n",
       "      <td>POINT (0.00000 0.00000)</td>\n",
       "    </tr>\n",
       "    <tr>\n",
       "      <th>1</th>\n",
       "      <td>1.0</td>\n",
       "      <td>POINT (1.00000 1.00000)</td>\n",
       "    </tr>\n",
       "    <tr>\n",
       "      <th>2</th>\n",
       "      <td>2.0</td>\n",
       "      <td>POINT (2.00000 2.00000)</td>\n",
       "    </tr>\n",
       "  </tbody>\n",
       "</table>\n",
       "</div>"
      ],
      "text/plain": [
       "    id                 geometry\n",
       "0  0.0  POINT (0.00000 0.00000)\n",
       "1  1.0  POINT (1.00000 1.00000)\n",
       "2  2.0  POINT (2.00000 2.00000)"
      ]
     },
     "execution_count": 5,
     "metadata": {},
     "output_type": "execute_result"
    }
   ],
   "source": [
    "# 直接读取gdb压缩包\n",
    "gpd.read_file('demo.gdb.zip', driver='OpenFileGDB')"
   ]
  }
 ],
 "metadata": {
  "kernelspec": {
   "display_name": "Python 3 (ipykernel)",
   "language": "python",
   "name": "python3"
  },
  "language_info": {
   "codemirror_mode": {
    "name": "ipython",
    "version": 3
   },
   "file_extension": ".py",
   "mimetype": "text/x-python",
   "name": "python",
   "nbconvert_exporter": "python",
   "pygments_lexer": "ipython3",
   "version": "3.11.0"
  }
 },
 "nbformat": 4,
 "nbformat_minor": 5
}
